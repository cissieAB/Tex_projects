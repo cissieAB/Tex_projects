{
 "cells": [
  {
   "cell_type": "code",
   "execution_count": null,
   "metadata": {},
   "outputs": [],
   "source": [
    "# First, install the necessary libraries if you haven't already\n",
    "# !pip install matplotlib pandas\n",
    "\n",
    "# Import necessary libraries\n",
    "import matplotlib.pyplot as plt\n",
    "import pandas as pd\n",
    "import numpy as np\n",
    "from matplotlib.colors import Normalize\n",
    "from matplotlib.colorbar import ColorbarBase\n",
    "from matplotlib.cm import ScalarMappable\n",
    "\n",
    "\n",
    "# data in Gbps\n",
    "data = {\n",
    "    'Label': ['4-process UDP recv', 'iperf3 d2d', 'dfuse fio', 'ib_write d2d'],\n",
    "    'Value': [93.8, 95.8, 107.4, 188.3]\n",
    "}\n",
    "\n",
    "# Create a DataFrame\n",
    "df = pd.DataFrame(data)\n"
   ]
  },
  {
   "cell_type": "markdown",
   "metadata": {},
   "source": [
    "Plot for poster. No x axis label. No title. Data labels within the bars."
   ]
  },
  {
   "cell_type": "code",
   "execution_count": null,
   "metadata": {},
   "outputs": [],
   "source": [
    "hpdf_blue = '#1F4C6B'\n",
    "\n",
    "# Create a colormap and normalize the values\n",
    "cmap = plt.get_cmap('Blues')\n",
    "norm = Normalize(vmin=20, vmax=300)\n",
    "\n",
    "# Create a color for each bar based on its value\n",
    "colors = [cmap(norm(value)) for value in df['Value']]\n",
    "# Create a color map for the bars in the blue range\n",
    "# colors = plt.cm.Blues(np.linspace(0.2, 0.6, len(df)))\n",
    "\n",
    "# Plotting\n",
    "fig, ax = plt.subplots(figsize=(8, 2.5))\n",
    "\n",
    "# Horizontal bar plot without borders\n",
    "bars = ax.barh(df['Label'], df['Value'], color=colors, edgecolor='none')\n",
    "\n",
    "# Add data labels to the right of each bar\n",
    "for bar in bars:\n",
    "    width = bar.get_width()\n",
    "    if (width > 10):\n",
    "        ax.text(width - 30, bar.get_y() + bar.get_height()/2, f'{width:,} Gbps',\n",
    "            va='center', ha='left', fontsize=10, color=hpdf_blue)\n",
    "\n",
    "# Add vertical dotted lines\n",
    "ax.axvline(x=100, color=hpdf_blue, linestyle='--', linewidth=1.5)\n",
    "ax.axvline(x=200, color='lightcoral', linestyle='--', linewidth=1.5)\n",
    "\n",
    "ax.text(100, -0.5, '100 Gbps Ethernet', color=hpdf_blue, fontsize=12, ha='center', va='top', bbox=dict(boxstyle=\"round,pad=0.3\", edgecolor='none', facecolor='white'))\n",
    "ax.text(200, -0.5, '200 Gbps Infiniband', color='lightcoral', fontsize=12, ha='center', va='top', bbox=dict(boxstyle=\"round,pad=0.3\", edgecolor='none', facecolor='white'))\n",
    "\n",
    "# Hide the x-axis and y-axis lines, ticks, and labels\n",
    "ax.spines['top'].set_visible(False)\n",
    "ax.spines['right'].set_visible(False)\n",
    "# ax.spines['left'].set_visible(False)\n",
    "ax.spines['bottom'].set_visible(False)\n",
    "ax.xaxis.set_ticks([])\n",
    "# ax.yaxis.set_ticks([])\n",
    "\n",
    "# Hide the axis labels and title\n",
    "ax.set_xlabel('')\n",
    "# ax.set_ylabel('')\n",
    "ax.set_title('')\n",
    "\n",
    "# Set the x-axis limit to fit the data scale\n",
    "ax.set_xlim(0, 200)\n",
    "\n",
    "# Remove the figure border\n",
    "# fig.patch.set_visible(False)\n",
    "ax.patch.set_visible(False)\n",
    "\n",
    "# Show the plot\n",
    "plt.tight_layout()\n",
    "plt.show()\n"
   ]
  },
  {
   "cell_type": "code",
   "execution_count": null,
   "metadata": {},
   "outputs": [],
   "source": [
    "# Save it as pdf\n",
    "plt.savefig('limit.png')"
   ]
  }
 ],
 "metadata": {
  "kernelspec": {
   "display_name": "Python 3",
   "language": "python",
   "name": "python3"
  },
  "language_info": {
   "codemirror_mode": {
    "name": "ipython",
    "version": 3
   },
   "file_extension": ".py",
   "mimetype": "text/x-python",
   "name": "python",
   "nbconvert_exporter": "python",
   "pygments_lexer": "ipython3",
   "version": "3.11.9"
  }
 },
 "nbformat": 4,
 "nbformat_minor": 2
}
