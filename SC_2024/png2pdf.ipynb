{
 "cells": [
  {
   "cell_type": "code",
   "execution_count": 2,
   "metadata": {},
   "outputs": [
    {
     "name": "stdout",
     "output_type": "stream",
     "text": [
      "Defaulting to user installation because normal site-packages is not writeable\n",
      "Requirement already satisfied: img2pdf in /home/xmei/.local/lib/python3.11/site-packages (0.5.1)\n",
      "Requirement already satisfied: Pillow in /home/xmei/.local/lib/python3.11/site-packages (from img2pdf) (10.4.0)\n",
      "Requirement already satisfied: pikepdf in /home/xmei/.local/lib/python3.11/site-packages (from img2pdf) (9.1.0)\n",
      "Requirement already satisfied: Deprecated in /home/xmei/.local/lib/python3.11/site-packages (from pikepdf->img2pdf) (1.2.14)\n",
      "Requirement already satisfied: lxml>=4.8 in /home/xmei/.local/lib/python3.11/site-packages (from pikepdf->img2pdf) (5.2.2)\n",
      "Requirement already satisfied: packaging in /home/xmei/.local/lib/python3.11/site-packages (from pikepdf->img2pdf) (24.1)\n",
      "Requirement already satisfied: wrapt<2,>=1.10 in /home/xmei/.local/lib/python3.11/site-packages (from Deprecated->pikepdf->img2pdf) (1.16.0)\n",
      "\n",
      "\u001b[1m[\u001b[0m\u001b[34;49mnotice\u001b[0m\u001b[1;39;49m]\u001b[0m\u001b[39;49m A new release of pip is available: \u001b[0m\u001b[31;49m24.0\u001b[0m\u001b[39;49m -> \u001b[0m\u001b[32;49m24.2\u001b[0m\n",
      "\u001b[1m[\u001b[0m\u001b[34;49mnotice\u001b[0m\u001b[1;39;49m]\u001b[0m\u001b[39;49m To update, run: \u001b[0m\u001b[32;49mpython3.11 -m pip install --upgrade pip\u001b[0m\n"
     ]
    },
    {
     "ename": "TypeError",
     "evalue": "a bytes-like object is required, not 'str'",
     "output_type": "error",
     "traceback": [
      "\u001b[0;31m---------------------------------------------------------------------------\u001b[0m",
      "\u001b[0;31mTypeError\u001b[0m                                 Traceback (most recent call last)",
      "Cell \u001b[0;32mIn[2], line 13\u001b[0m\n\u001b[1;32m     11\u001b[0m \u001b[38;5;66;03m# Convert PNG to PDF\u001b[39;00m\n\u001b[1;32m     12\u001b[0m \u001b[38;5;28;01mwith\u001b[39;00m \u001b[38;5;28mopen\u001b[39m(pdf_file, \u001b[38;5;124m\"\u001b[39m\u001b[38;5;124mwb\u001b[39m\u001b[38;5;124m\"\u001b[39m) \u001b[38;5;28;01mas\u001b[39;00m f:\n\u001b[0;32m---> 13\u001b[0m     f\u001b[38;5;241m.\u001b[39mwrite(\u001b[43mimg2pdf\u001b[49m\u001b[38;5;241;43m.\u001b[39;49m\u001b[43mconvert\u001b[49m\u001b[43m(\u001b[49m\u001b[43mpng_file\u001b[49m\u001b[43m)\u001b[49m)\n",
      "File \u001b[0;32m~/.local/lib/python3.11/site-packages/img2pdf.py:2733\u001b[0m, in \u001b[0;36mconvert\u001b[0;34m(*images, **kwargs)\u001b[0m\n\u001b[1;32m   2714\u001b[0m         f\u001b[38;5;241m.\u001b[39mclose()\n\u001b[1;32m   2716\u001b[0m \u001b[38;5;66;03m# md5 = hashlib.md5(rawdata).hexdigest()\u001b[39;00m\n\u001b[1;32m   2717\u001b[0m \u001b[38;5;66;03m# with open(\"./testdata/\" + md5, \"wb\") as f:\u001b[39;00m\n\u001b[1;32m   2718\u001b[0m \u001b[38;5;66;03m#    f.write(rawdata)\u001b[39;00m\n\u001b[1;32m   2720\u001b[0m \u001b[38;5;28;01mfor\u001b[39;00m (\n\u001b[1;32m   2721\u001b[0m     color,\n\u001b[1;32m   2722\u001b[0m     ndpi,\n\u001b[1;32m   2723\u001b[0m     imgformat,\n\u001b[1;32m   2724\u001b[0m     imgdata,\n\u001b[1;32m   2725\u001b[0m     smaskdata,\n\u001b[1;32m   2726\u001b[0m     imgwidthpx,\n\u001b[1;32m   2727\u001b[0m     imgheightpx,\n\u001b[1;32m   2728\u001b[0m     palette,\n\u001b[1;32m   2729\u001b[0m     inverted,\n\u001b[1;32m   2730\u001b[0m     depth,\n\u001b[1;32m   2731\u001b[0m     rotation,\n\u001b[1;32m   2732\u001b[0m     iccp,\n\u001b[0;32m-> 2733\u001b[0m ) \u001b[38;5;129;01min\u001b[39;00m \u001b[43mread_images\u001b[49m\u001b[43m(\u001b[49m\n\u001b[1;32m   2734\u001b[0m \u001b[43m    \u001b[49m\u001b[43mrawdata\u001b[49m\u001b[43m,\u001b[49m\n\u001b[1;32m   2735\u001b[0m \u001b[43m    \u001b[49m\u001b[43mkwargs\u001b[49m\u001b[43m[\u001b[49m\u001b[38;5;124;43m\"\u001b[39;49m\u001b[38;5;124;43mcolorspace\u001b[39;49m\u001b[38;5;124;43m\"\u001b[39;49m\u001b[43m]\u001b[49m\u001b[43m,\u001b[49m\n\u001b[1;32m   2736\u001b[0m \u001b[43m    \u001b[49m\u001b[43mkwargs\u001b[49m\u001b[43m[\u001b[49m\u001b[38;5;124;43m\"\u001b[39;49m\u001b[38;5;124;43mfirst_frame_only\u001b[39;49m\u001b[38;5;124;43m\"\u001b[39;49m\u001b[43m]\u001b[49m\u001b[43m,\u001b[49m\n\u001b[1;32m   2737\u001b[0m \u001b[43m    \u001b[49m\u001b[43mkwargs\u001b[49m\u001b[43m[\u001b[49m\u001b[38;5;124;43m\"\u001b[39;49m\u001b[38;5;124;43mrotation\u001b[39;49m\u001b[38;5;124;43m\"\u001b[39;49m\u001b[43m]\u001b[49m\u001b[43m,\u001b[49m\n\u001b[1;32m   2738\u001b[0m \u001b[43m    \u001b[49m\u001b[43mkwargs\u001b[49m\u001b[43m[\u001b[49m\u001b[38;5;124;43m\"\u001b[39;49m\u001b[38;5;124;43minclude_thumbnails\u001b[39;49m\u001b[38;5;124;43m\"\u001b[39;49m\u001b[43m]\u001b[49m\u001b[43m,\u001b[49m\n\u001b[1;32m   2739\u001b[0m \u001b[43m\u001b[49m\u001b[43m)\u001b[49m:\n\u001b[1;32m   2740\u001b[0m     pagewidth, pageheight, imgwidthpdf, imgheightpdf \u001b[38;5;241m=\u001b[39m kwargs[\u001b[38;5;124m\"\u001b[39m\u001b[38;5;124mlayout_fun\u001b[39m\u001b[38;5;124m\"\u001b[39m](\n\u001b[1;32m   2741\u001b[0m         imgwidthpx, imgheightpx, ndpi\n\u001b[1;32m   2742\u001b[0m     )\n\u001b[1;32m   2744\u001b[0m     userunit \u001b[38;5;241m=\u001b[39m \u001b[38;5;28;01mNone\u001b[39;00m\n",
      "File \u001b[0;32m~/.local/lib/python3.11/site-packages/img2pdf.py:1813\u001b[0m, in \u001b[0;36mread_images\u001b[0;34m(rawdata, colorspace, first_frame_only, rot, include_thumbnails)\u001b[0m\n\u001b[1;32m   1810\u001b[0m \u001b[38;5;28;01mdef\u001b[39;00m \u001b[38;5;21mread_images\u001b[39m(\n\u001b[1;32m   1811\u001b[0m     rawdata, colorspace, first_frame_only\u001b[38;5;241m=\u001b[39m\u001b[38;5;28;01mFalse\u001b[39;00m, rot\u001b[38;5;241m=\u001b[39m\u001b[38;5;28;01mNone\u001b[39;00m, include_thumbnails\u001b[38;5;241m=\u001b[39m\u001b[38;5;28;01mFalse\u001b[39;00m\n\u001b[1;32m   1812\u001b[0m ):\n\u001b[0;32m-> 1813\u001b[0m     im \u001b[38;5;241m=\u001b[39m \u001b[43mBytesIO\u001b[49m\u001b[43m(\u001b[49m\u001b[43mrawdata\u001b[49m\u001b[43m)\u001b[49m\n\u001b[1;32m   1814\u001b[0m     im\u001b[38;5;241m.\u001b[39mseek(\u001b[38;5;241m0\u001b[39m)\n\u001b[1;32m   1815\u001b[0m     imgdata \u001b[38;5;241m=\u001b[39m \u001b[38;5;28;01mNone\u001b[39;00m\n",
      "\u001b[0;31mTypeError\u001b[0m: a bytes-like object is required, not 'str'"
     ]
    }
   ],
   "source": [
    "# !pip install img2pdf\n",
    "\n",
    "import img2pdf\n",
    "\n",
    "# Replace 'input_image.png' with your PNG file path\n",
    "png_file = 'limit.png'\n",
    "\n",
    "# Replace 'output_pdf.pdf' with the desired PDF file path\n",
    "pdf_file = 'limits.pdf'\n",
    "\n",
    "# Convert PNG to PDF\n",
    "with open(pdf_file, \"wb\") as f:\n",
    "    f.write(img2pdf.convert(png_file))"
   ]
  }
 ],
 "metadata": {
  "kernelspec": {
   "display_name": "Python 3",
   "language": "python",
   "name": "python3"
  },
  "language_info": {
   "codemirror_mode": {
    "name": "ipython",
    "version": 3
   },
   "file_extension": ".py",
   "mimetype": "text/x-python",
   "name": "python",
   "nbconvert_exporter": "python",
   "pygments_lexer": "ipython3",
   "version": "3.11.9"
  }
 },
 "nbformat": 4,
 "nbformat_minor": 2
}
