{
 "cells": [
  {
   "cell_type": "code",
   "execution_count": null,
   "id": "b4ddcbbe-680f-4cfe-98f9-8ee12eda9bfa",
   "metadata": {},
   "outputs": [],
   "source": [
    "!pip install colour\n",
    "!pip install seaborn"
   ]
  },
  {
   "cell_type": "code",
   "execution_count": null,
   "id": "c20c3cd5-8d50-46b4-b4af-8fceb54660e3",
   "metadata": {},
   "outputs": [],
   "source": [
    "import pandas as pd\n",
    "from matplotlib import pyplot as plt\n",
    "import seaborn as sns"
   ]
  },
  {
   "cell_type": "code",
   "execution_count": null,
   "id": "f0725ffb-c6b6-426b-8f63-25c83901ea87",
   "metadata": {},
   "outputs": [],
   "source": [
    "plt.rcParams[\"figure.figsize\"] = [7.00, 3.50]\n",
    "plt.rcParams[\"figure.autolayout\"] = True\n",
    "columns = [\"perf\", \"numjobs\", \"bsKB\"]\n",
    "df = pd.read_csv(\"fio_test - daos-test.csv.csv\")\n",
    "print(\"Contents in csv file:\", df.columns)\n",
    "print(df['bs (KiB)'])"
   ]
  },
  {
   "cell_type": "markdown",
   "id": "ea8e0f5c-cfca-46d7-8f58-c764990b5b0c",
   "metadata": {},
   "source": [
    "I tried a couple of options for colors. The first pallete uses the color library to pick colors between a range, you could trying updating the upper and lower range for better results(teal_pallete1). I also manually set a teal color pallete but it might be a bit confusing (teal_pallete2)."
   ]
  },
  {
   "cell_type": "code",
   "execution_count": null,
   "id": "b1ff83cb-cd39-472c-8796-c58bb1b5fcc2",
   "metadata": {},
   "outputs": [],
   "source": [
    "from colour import Color\n",
    "teal = Color(\"#2a5674\")\n",
    "light_blue = Color(\"#b2d8d8\")\n",
    "colors = list(light_blue.range_to(Color(teal),7))\n",
    "teal_pallete1 = []\n",
    "for x in colors:\n",
    "    teal_pallete1.append(x.rgb)\n",
    "\n",
    "teal_pallete2 = [\"#d1eeea\",\"#a8dbd9\",\"#85c4c9\",\"#68abb8\",\"#4f90a6\",\"#3b738f\",\"#2a5674\"]"
   ]
  },
  {
   "cell_type": "code",
   "execution_count": null,
   "id": "5646144c-33bc-4299-aeeb-7ad3ed7cacc4",
   "metadata": {},
   "outputs": [],
   "source": [
    "plt.ylim(bottom=0)\n",
    "plt.xlim(left=0)\n",
    "ax = sns.lineplot(x='bs (KiB)', y='perf (MB/s)', hue='numjobs', data=df, palette=teal_pallete1, markers=True, marker='o')\n",
    "ax.tick_params(bottom=True, left=True)\n",
    "ax.set(xlabel='bs (KiB)', ylabel='MB/s')\n",
    "ax.plot([8.952,8.952], [-100, max(df['perf (MB/s)']) + 1000], label='8592 B')\n",
    "ax.plot([0,max(df['bs (KiB)']) + 100], [12500,12500], label = '12500 MB/s')\n",
    "ax.set_xticks([0,1024,2048,3072,4096])\n",
    "ax.set_yticks([0, 5000, 10000, 15000])\n",
    "ax.legend()\n",
    "sns.move_legend(ax, \"upper left\", bbox_to_anchor=(1, 1))"
   ]
  },
  {
   "cell_type": "code",
   "execution_count": null,
   "id": "646db36f-398a-4a0d-b65b-9b83b5e57e27",
   "metadata": {},
   "outputs": [],
   "source": []
  },
  {
   "cell_type": "code",
   "execution_count": null,
   "id": "b8eee923-2fd2-4c8b-b3a2-39f87054f28f",
   "metadata": {},
   "outputs": [],
   "source": []
  }
 ],
 "metadata": {
  "kernelspec": {
   "display_name": "Python 3 (ipykernel)",
   "language": "python",
   "name": "python3"
  },
  "language_info": {
   "codemirror_mode": {
    "name": "ipython",
    "version": 3
   },
   "file_extension": ".py",
   "mimetype": "text/x-python",
   "name": "python",
   "nbconvert_exporter": "python",
   "pygments_lexer": "ipython3",
   "version": "3.12.4"
  }
 },
 "nbformat": 4,
 "nbformat_minor": 5
}
